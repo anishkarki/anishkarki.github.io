{
 "cells": [
  {
   "cell_type": "markdown",
   "id": "c9e1fb4d",
   "metadata": {},
   "source": [
    "# Migration of the SQL Server to AZURE\n"
   ]
  }
 ],
 "metadata": {
  "language_info": {
   "name": "python"
  }
 },
 "nbformat": 4,
 "nbformat_minor": 5
}
